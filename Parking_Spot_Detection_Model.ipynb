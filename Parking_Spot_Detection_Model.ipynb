{
  "nbformat": 4,
  "nbformat_minor": 0,
  "metadata": {
    "accelerator": "GPU",
    "colab": {
      "name": "Parking Spot Detection Model",
      "provenance": [],
      "private_outputs": true,
      "collapsed_sections": [],
      "toc_visible": true,
      "include_colab_link": true
    },
    "kernelspec": {
      "display_name": "Python 3",
      "language": "python",
      "name": "python3"
    }
  },
  "cells": [
    {
      "cell_type": "markdown",
      "metadata": {
        "id": "view-in-github",
        "colab_type": "text"
      },
      "source": [
        "<a href=\"https://colab.research.google.com/github/yardenahirsch/cs194W_test/blob/master/Parking_Spot_Detection_Model.ipynb\" target=\"_parent\"><img src=\"https://colab.research.google.com/assets/colab-badge.svg\" alt=\"Open In Colab\"/></a>"
      ]
    },
    {
      "cell_type": "markdown",
      "metadata": {
        "id": "XRzMDf5S4PRh",
        "colab_type": "text"
      },
      "source": [
        "## Parking Spot Detection Model\n",
        "#### We use a TensorFlow Hub Object Detection Model to identify and count the number of cars in a video frame. In this approach, we need to count the number of parking spots in a camera view when we set up the camera. Then we would repeatedly count the number of cars in a video frame and subtract this from the total number of parking spots to get the number of available parking spots. We run object detection on a video frame every 30 seconds, and it takes approximately 1.5 seconds to run object detection on each video frame. "
      ]
    },
    {
      "cell_type": "markdown",
      "metadata": {
        "id": "P7ky9Bb46OcZ",
        "colab_type": "text"
      },
      "source": [
        "#### Notes: \n",
        "* You need to upload the video file \"parking_lot.mov\" to the files on the left side bar. The files get deleted each time you run this notebook. \n",
        "* It takes a few minutes to run the import statements but we would only need to do this once if we are running this continuously. \n",
        "* You can ignore the errors and warnings from running import statements."
      ]
    },
    {
      "cell_type": "markdown",
      "metadata": {
        "colab_type": "text",
        "id": "N6ZDpd9XzFeN"
      },
      "source": [
        "##### Copyright 2018 The TensorFlow Hub Authors.\n",
        "\n",
        "Licensed under the Apache License, Version 2.0 (the \"License\");"
      ]
    },
    {
      "cell_type": "code",
      "metadata": {
        "cellView": "both",
        "colab_type": "code",
        "id": "KUu4vOt5zI9d",
        "colab": {}
      },
      "source": [
        "# Copyright 2018 The TensorFlow Hub Authors. All Rights Reserved.\n",
        "#\n",
        "# Licensed under the Apache License, Version 2.0 (the \"License\");\n",
        "# you may not use this file except in compliance with the License.\n",
        "# You may obtain a copy of the License at\n",
        "#\n",
        "#     http://www.apache.org/licenses/LICENSE-2.0\n",
        "#\n",
        "# Unless required by applicable law or agreed to in writing, software\n",
        "# distributed under the License is distributed on an \"AS IS\" BASIS,\n",
        "# WITHOUT WARRANTIES OR CONDITIONS OF ANY KIND, either express or implied.\n",
        "# See the License for the specific language governing permissions and\n",
        "# limitations under the License.\n",
        "# =============================================================================="
      ],
      "execution_count": 0,
      "outputs": []
    },
    {
      "cell_type": "markdown",
      "metadata": {
        "colab_type": "text",
        "id": "v4XGxDrCkeip"
      },
      "source": [
        "## Imports\n"
      ]
    },
    {
      "cell_type": "code",
      "metadata": {
        "cellView": "both",
        "colab_type": "code",
        "id": "6cPY9Ou4sWs_",
        "colab": {}
      },
      "source": [
        "# Runs with stable version tensorflow 2.1.0.\n",
        "\n",
        "!pip install tensorflow==2.1.0\n",
        "\n",
        "# For running inference on the TF-Hub module.\n",
        "import tensorflow as tf\n",
        "\n",
        "import tensorflow_hub as hub\n",
        "\n",
        "# For converting video to video frames \n",
        "import cv2\n",
        "\n",
        "# For downloading the image.\n",
        "import matplotlib.pyplot as plt\n",
        "import tempfile\n",
        "from six.moves.urllib.request import urlopen\n",
        "from six import BytesIO\n",
        "\n",
        "# For drawing onto the image.\n",
        "import numpy as np\n",
        "from PIL import Image\n",
        "from PIL import ImageColor\n",
        "from PIL import ImageDraw\n",
        "from PIL import ImageFont\n",
        "from PIL import ImageOps\n",
        "\n",
        "# For measuring the inference time.\n",
        "import time"
      ],
      "execution_count": 0,
      "outputs": []
    },
    {
      "cell_type": "markdown",
      "metadata": {
        "id": "GLyttaUF7VrE",
        "colab_type": "text"
      },
      "source": [
        "## Constants"
      ]
    },
    {
      "cell_type": "code",
      "metadata": {
        "id": "CAquZgu07cEu",
        "colab_type": "code",
        "colab": {}
      },
      "source": [
        "FPS = 60 # Video is FPS frames per second (depends on video)\n",
        "CAPTURE_TIME_FREQUENCY = 30 # Capture a frame every CAPTURE_TIME_FREQUENCY seconds \n",
        "CAPTURE_FRAME_FREQUENCY = FPS*CAPTURE_TIME_FREQUENCY # Capture a frame at multiples of this value \n",
        "CAR_LABEL = b'Car' # Name used by object detection model for cars\n",
        "MIN_SCORE_CAR = .50 # Minimum score required to count an object as a car "
      ],
      "execution_count": 0,
      "outputs": []
    },
    {
      "cell_type": "markdown",
      "metadata": {
        "colab_type": "text",
        "id": "vlA3CftFpRiW"
      },
      "source": [
        "## Helper functions for visualization.\n",
        "\n",
        "Visualization code adapted from [TF object detection API](https://github.com/tensorflow/models/blob/master/research/object_detection/utils/visualization_utils.py) for the simplest required functionality."
      ]
    },
    {
      "cell_type": "code",
      "metadata": {
        "colab_type": "code",
        "id": "D9IwDpOtpIHW",
        "colab": {}
      },
      "source": [
        "def draw_bounding_box_on_image(image,\n",
        "                               ymin,\n",
        "                               xmin,\n",
        "                               ymax,\n",
        "                               xmax,\n",
        "                               color,\n",
        "                               font,\n",
        "                               thickness=2,\n",
        "                               display_str_list=()):\n",
        "  \"\"\"Adds a bounding box to an image.\"\"\"\n",
        "  draw = ImageDraw.Draw(image)\n",
        "  im_width, im_height = image.size\n",
        "  (left, right, top, bottom) = (xmin * im_width, xmax * im_width,\n",
        "                                ymin * im_height, ymax * im_height)\n",
        "  draw.line([(left, top), (left, bottom), (right, bottom), (right, top),\n",
        "             (left, top)],\n",
        "            width=thickness,\n",
        "            fill=color)\n",
        "\n",
        "  # If the total height of the display strings added to the top of the bounding\n",
        "  # box exceeds the top of the image, stack the strings below the bounding box\n",
        "  # instead of above.\n",
        "  display_str_heights = [font.getsize(ds)[1] for ds in display_str_list]\n",
        "  # Each display_str has a top and bottom margin of 0.05x.\n",
        "  total_display_str_height = (1 + 2 * 0.05) * sum(display_str_heights)\n",
        "\n",
        "  if top > total_display_str_height:\n",
        "    text_bottom = top\n",
        "  else:\n",
        "    text_bottom = bottom + total_display_str_height\n",
        "  # Reverse list and print from bottom to top.\n",
        "  for display_str in display_str_list[::-1]:\n",
        "    text_width, text_height = font.getsize(display_str)\n",
        "    margin = np.ceil(0.05 * text_height)\n",
        "    draw.rectangle([(left, text_bottom - text_height - 2 * margin),\n",
        "                    (left + text_width, text_bottom)],\n",
        "                   fill=color)\n",
        "    draw.text((left + margin, text_bottom - text_height - margin),\n",
        "              display_str,\n",
        "              fill=\"black\",\n",
        "              font=font)\n",
        "    text_bottom -= text_height - 2 * margin\n",
        "\n",
        "\n",
        "def draw_boxes(image, boxes, class_names, scores):\n",
        "  BOX_LABEL_COLOR = \"white\"\n",
        "  \"\"\"Overlay labeled boxes on an image with formatted scores and label names.\"\"\"\n",
        "  try:\n",
        "    font = ImageFont.truetype(\"/usr/share/fonts/truetype/liberation/LiberationSansNarrow-Regular.ttf\",\n",
        "                              25)\n",
        "  except IOError:\n",
        "    print(\"Font not found, using default font.\")\n",
        "    font = ImageFont.load_default()\n",
        "\n",
        "  for i in range(boxes.shape[0]):\n",
        "    ymin, xmin, ymax, xmax = tuple(boxes[i])\n",
        "    display_str = \"{}: {}%\".format(class_names[i].decode(\"ascii\"),\n",
        "                                    int(100 * scores[i]))\n",
        "    image_pil = Image.fromarray(np.uint8(image)).convert(\"RGB\")\n",
        "    draw_bounding_box_on_image(\n",
        "        image_pil,\n",
        "        ymin,\n",
        "        xmin,\n",
        "        ymax,\n",
        "        xmax,\n",
        "        BOX_LABEL_COLOR,\n",
        "        font,\n",
        "        display_str_list=[display_str])\n",
        "    np.copyto(image, np.array(image_pil))\n",
        "  return image"
      ],
      "execution_count": 0,
      "outputs": []
    },
    {
      "cell_type": "markdown",
      "metadata": {
        "colab_type": "text",
        "id": "D19UCu9Q2-_8"
      },
      "source": [
        "## Model to detect cars in an image"
      ]
    },
    {
      "cell_type": "markdown",
      "metadata": {
        "colab_type": "text",
        "id": "t-VdfLbC1w51"
      },
      "source": [
        "Pick an object detection module and apply on the downloaded image. Modules:\n",
        "* **FasterRCNN+InceptionResNet V2**: high accuracy,\n",
        "* **ssd+mobilenet V2**: small and fast."
      ]
    },
    {
      "cell_type": "code",
      "metadata": {
        "colab_type": "code",
        "id": "uazJ5ASc2_QE",
        "colab": {}
      },
      "source": [
        "module_handle = \"https://tfhub.dev/google/faster_rcnn/openimages_v4/inception_resnet_v2/1\" #@param [\"https://tfhub.dev/google/openimages_v4/ssd/mobilenet_v2/1\", \"https://tfhub.dev/google/faster_rcnn/openimages_v4/inception_resnet_v2/1\"]\n",
        "\n",
        "detector = hub.load(module_handle).signatures['default']"
      ],
      "execution_count": 0,
      "outputs": []
    },
    {
      "cell_type": "code",
      "metadata": {
        "colab_type": "code",
        "id": "znW8Fq1EC0x7",
        "colab": {}
      },
      "source": [
        "def load_img(path):\n",
        "  img = tf.io.read_file(path)\n",
        "  img = tf.image.decode_jpeg(img, channels=3)\n",
        "  return img"
      ],
      "execution_count": 0,
      "outputs": []
    },
    {
      "cell_type": "code",
      "metadata": {
        "id": "H3kqC9ckIHLe",
        "colab_type": "code",
        "colab": {}
      },
      "source": [
        "def save_detected_image(image, original_filename):\n",
        "  labeled_filename = \"labeled_\" + original_filename \n",
        "  plt.figure(figsize=(15,20))\n",
        "  plt.imshow(image)\n",
        "  plt.savefig(labeled_filename)"
      ],
      "execution_count": 0,
      "outputs": []
    },
    {
      "cell_type": "code",
      "metadata": {
        "colab_type": "code",
        "id": "kwGJV96WWBLH",
        "colab": {}
      },
      "source": [
        "def run_detector(detector, path):\n",
        "  img = load_img(path)\n",
        "\n",
        "  converted_img  = tf.image.convert_image_dtype(img, tf.float32)[tf.newaxis, ...]\n",
        "  start_time = time.time()\n",
        "  result = detector(converted_img)\n",
        "  end_time = time.time()\n",
        "\n",
        "  result = {key:value.numpy() for key,value in result.items()} # This is a dictionary of detection class labels, detection class entities, and detection scores\n",
        "\n",
        "  class_entities = result['detection_class_entities'] \n",
        "  class_scores = result['detection_scores']\n",
        "  # Get a numpy array of bools, where True signifies that the object detected is a car and the object detection score is greater than the minimum score\n",
        "  filter_cars = (class_entities == CAR_LABEL) & (class_scores > MIN_SCORE_CAR)\n",
        "  num_cars = np.sum(filter_cars)\n",
        "\n",
        "  elapsed_time = end_time-start_time\n",
        "  print(\"%s: Detected %d cars in %f seconds\" % (path, num_cars, elapsed_time))\n",
        "\n",
        "  # Only draw boxes on cars that have a score greater than the minimum score\n",
        "  image_with_boxes = draw_boxes(\n",
        "      img.numpy(), result[\"detection_boxes\"][filter_cars],\n",
        "      result[\"detection_class_entities\"][filter_cars], result[\"detection_scores\"][filter_cars])\n",
        "\n",
        "  save_detected_image(image_with_boxes, path)"
      ],
      "execution_count": 0,
      "outputs": []
    },
    {
      "cell_type": "markdown",
      "metadata": {
        "id": "ZS5XMMh31ZN7",
        "colab_type": "text"
      },
      "source": [
        "## Run detection on a video "
      ]
    },
    {
      "cell_type": "code",
      "metadata": {
        "id": "UQL87t-n1wCC",
        "colab_type": "code",
        "colab": {}
      },
      "source": [
        "def run_detection_on_video(video_filename):\n",
        "  vidcap = cv2.VideoCapture(video_filename)\n",
        "  success, image = vidcap.read()\n",
        "  count = 0\n",
        "  while success:\n",
        "    # Only write and process the video frame if it is a multiple of the capture frame frequency \n",
        "    if count % CAPTURE_FRAME_FREQUENCY == 0: \n",
        "      frame_name = \"frame%d.jpg\" % count\n",
        "      cv2.imwrite(frame_name, image) # save frame as JPEG file\n",
        "      run_detector(detector, frame_name)\n",
        "    success, image = vidcap.read()\n",
        "    count += 1"
      ],
      "execution_count": 0,
      "outputs": []
    },
    {
      "cell_type": "code",
      "metadata": {
        "id": "aGJGbRKz3haQ",
        "colab_type": "code",
        "colab": {}
      },
      "source": [
        "run_detection_on_video(\"parking_lot.mov\")"
      ],
      "execution_count": 0,
      "outputs": []
    },
    {
      "cell_type": "code",
      "metadata": {
        "id": "mnzSZxQVB-8p",
        "colab_type": "code",
        "colab": {}
      },
      "source": [
        ""
      ],
      "execution_count": 0,
      "outputs": []
    }
  ]
}